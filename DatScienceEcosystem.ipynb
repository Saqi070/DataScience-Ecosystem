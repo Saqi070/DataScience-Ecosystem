{
 "cells": [
  {
   "cell_type": "markdown",
   "id": "6196d1b4",
   "metadata": {},
   "source": [
    "# Data Science Tools and Ecosystem"
   ]
  },
  {
   "cell_type": "markdown",
   "id": "77cc5f59",
   "metadata": {},
   "source": [
    "## In this notebook, Data Science Tools and Ecosystem are summarized"
   ]
  },
  {
   "cell_type": "markdown",
   "id": "f314be67",
   "metadata": {},
   "source": [
    "## Some of the popular languages that Data Scientist use are:\n",
    "1. Python\n",
    "2. R\n",
    "3. SQL\n"
   ]
  },
  {
   "cell_type": "markdown",
   "id": "23007324",
   "metadata": {},
   "source": [
    "## Some of the most commenly used libraries used by Data Scientist include:\n",
    "1. Numpy\n",
    "2. Pandas\n",
    "3. Matplotlib\n",
    "4. Seaborn\n",
    "5. TensorFlow"
   ]
  },
  {
   "cell_type": "markdown",
   "id": "2bbcb916",
   "metadata": {},
   "source": [
    "| Data Science Tools |\n",
    "| ------------------ |\n",
    "| RStudio             |\n",
    "| Jupyter Notebook   |\n",
    "| Spyder              |"
   ]
  },
  {
   "cell_type": "markdown",
   "id": "7f7748d2",
   "metadata": {},
   "source": [
    "### Below are a few example of evaluating arithmetic expressions in python.\n"
   ]
  },
  {
   "cell_type": "code",
   "execution_count": 1,
   "id": "ac104909",
   "metadata": {},
   "outputs": [
    {
     "data": {
      "text/plain": [
       "17"
      ]
     },
     "execution_count": 1,
     "metadata": {},
     "output_type": "execute_result"
    }
   ],
   "source": [
    "# This is a simple arithmetic expression to multiply 3 by 4, and then add 5\n",
    "(3*4)+5"
   ]
  },
  {
   "cell_type": "code",
   "execution_count": 2,
   "id": "53fac82c",
   "metadata": {},
   "outputs": [
    {
     "data": {
      "text/plain": [
       "3.3333333333333335"
      ]
     },
     "execution_count": 2,
     "metadata": {},
     "output_type": "execute_result"
    }
   ],
   "source": [
    "# This will convert 200 minutes to hours by dividing by 60\n",
    "200 / 60"
   ]
  },
  {
   "cell_type": "code",
   "execution_count": 3,
   "id": "bfcf61ee",
   "metadata": {},
   "outputs": [
    {
     "ename": "SyntaxError",
     "evalue": "invalid syntax (Temp/ipykernel_10828/136214052.py, line 1)",
     "output_type": "error",
     "traceback": [
      "\u001b[1;36m  File \u001b[1;32m\"C:\\Users\\HP\\AppData\\Local\\Temp/ipykernel_10828/136214052.py\"\u001b[1;36m, line \u001b[1;32m1\u001b[0m\n\u001b[1;33m    ** Objectives **\u001b[0m\n\u001b[1;37m    ^\u001b[0m\n\u001b[1;31mSyntaxError\u001b[0m\u001b[1;31m:\u001b[0m invalid syntax\n"
     ]
    }
   ],
   "source": [
    "** Objectives **"
   ]
  },
  {
   "cell_type": "markdown",
   "id": "02b75047",
   "metadata": {},
   "source": [
    "** Objectives **"
   ]
  },
  {
   "cell_type": "markdown",
   "id": "432e247e",
   "metadata": {},
   "source": [
    "# ** Objectives **"
   ]
  },
  {
   "cell_type": "markdown",
   "id": "955b9c62",
   "metadata": {},
   "source": [
    "# Objectives"
   ]
  },
  {
   "cell_type": "code",
   "execution_count": 4,
   "id": "92fd2610",
   "metadata": {},
   "outputs": [
    {
     "ename": "SyntaxError",
     "evalue": "invalid syntax (Temp/ipykernel_10828/838389772.py, line 1)",
     "output_type": "error",
     "traceback": [
      "\u001b[1;36m  File \u001b[1;32m\"C:\\Users\\HP\\AppData\\Local\\Temp/ipykernel_10828/838389772.py\"\u001b[1;36m, line \u001b[1;32m1\u001b[0m\n\u001b[1;33m    This is **bold** text.\u001b[0m\n\u001b[1;37m            ^\u001b[0m\n\u001b[1;31mSyntaxError\u001b[0m\u001b[1;31m:\u001b[0m invalid syntax\n"
     ]
    }
   ],
   "source": [
    "This is **bold** text.\n"
   ]
  },
  {
   "cell_type": "markdown",
   "id": "c3da4657",
   "metadata": {},
   "source": [
    "This is **bold** text.\n"
   ]
  },
  {
   "cell_type": "markdown",
   "id": "c6cb3aea",
   "metadata": {},
   "source": [
    "**Objectives**\n",
    "- SQL\n",
    "- R\n",
    "- Python\n"
   ]
  },
  {
   "cell_type": "markdown",
   "id": "f062b718",
   "metadata": {},
   "source": [
    "## Author\n",
    "Saqlain Asghar"
   ]
  },
  {
   "cell_type": "code",
   "execution_count": null,
   "id": "ac60fd9f",
   "metadata": {},
   "outputs": [],
   "source": []
  }
 ],
 "metadata": {
  "kernelspec": {
   "display_name": "Python 3 (ipykernel)",
   "language": "python",
   "name": "python3"
  },
  "language_info": {
   "codemirror_mode": {
    "name": "ipython",
    "version": 3
   },
   "file_extension": ".py",
   "mimetype": "text/x-python",
   "name": "python",
   "nbconvert_exporter": "python",
   "pygments_lexer": "ipython3",
   "version": "3.9.7"
  }
 },
 "nbformat": 4,
 "nbformat_minor": 5
}
